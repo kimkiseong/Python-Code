{
 "cells": [
  {
   "cell_type": "code",
   "execution_count": 3,
   "id": "aa1bf98d",
   "metadata": {},
   "outputs": [
    {
     "name": "stdout",
     "output_type": "stream",
     "text": [
      "['시도별', '2021.08', '2021.09', '2021.1', '2021.11', '2021.12', '2022.01', '2022.02', '2022.03', '2022.04', '2022.05', '2022.06', '2022.07', '2022.08']\n",
      "['전국', '102.75', '103.17', '103.35', '103.87', '104.04', '104.69', '105.3', '106.06', '106.85', '107.56', '108.22', '108.74', '108.62']\n",
      "['서울특별시', '102.33', '102.67', '102.9', '103.2', '103.32', '103.99', '104.64', '105.09', '105.74', '106.36', '106.88', '107.46', '107.58']\n",
      "['부산광역시', '102.61', '103.17', '103.22', '103.63', '103.87', '104.58', '105.14', '105.84', '106.45', '107.11', '107.81', '108.2', '108.21']\n",
      "['대구광역시', '102.9', '103.43', '103.56', '104.11', '104.3', '104.9', '105.59', '106.34', '107.08', '107.82', '108.33', '109.06', '108.98']\n"
     ]
    }
   ],
   "source": [
    "#CSV파일 불러오기\n",
    "import csv\n",
    "\n",
    "#경로 잘 적어주자 오류나면 r\"\" 형식으로 or \\\\ 두 번 붙여주기\n",
    "#file_name = \"file_name.csv\"\n",
    "file_name = r\"C:\\Users\\rltjd\\Downloads\\소비자물가지수_2020100__20220918220014.csv\"\n",
    "\n",
    "#파일 읽기\n",
    "fp = open(file_name, 'r', encoding ='utf-8-sig')\n",
    "#'UTF-8' 일반적 \n",
    "#python에서 \\ufeff가 읽히는 문제 - 'utf-8-sig' 사용\n",
    "\n",
    "data = []\n",
    "rd = csv.reader(fp)\n",
    "for line in rd:\n",
    "    data.append(line)\n",
    "    \n",
    "# data 내용 확인 하기\n",
    "for each_line in data[:5]:\n",
    "    print(each_line)"
   ]
  },
  {
   "cell_type": "code",
   "execution_count": null,
   "id": "c0e52c10",
   "metadata": {},
   "outputs": [],
   "source": []
  }
 ],
 "metadata": {
  "kernelspec": {
   "display_name": "Python 3 (ipykernel)",
   "language": "python",
   "name": "python3"
  },
  "language_info": {
   "codemirror_mode": {
    "name": "ipython",
    "version": 3
   },
   "file_extension": ".py",
   "mimetype": "text/x-python",
   "name": "python",
   "nbconvert_exporter": "python",
   "pygments_lexer": "ipython3",
   "version": "3.9.7"
  }
 },
 "nbformat": 4,
 "nbformat_minor": 5
}
